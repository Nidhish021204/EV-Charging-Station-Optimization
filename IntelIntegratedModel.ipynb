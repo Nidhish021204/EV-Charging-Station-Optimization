{
 "cells": [
  {
   "cell_type": "markdown",
   "id": "9d41b438-32f7-4336-9aa5-b94ba307cca9",
   "metadata": {},
   "source": [
    "DATA COLLECTION AND PREPROCESSING"
   ]
  },
  {
   "cell_type": "raw",
   "id": "80038f58-6b8b-472a-acbc-9d06aec7a6bc",
   "metadata": {},
   "source": [
    "IMPORTING LIBRARIES"
   ]
  },
  {
   "cell_type": "code",
   "execution_count": 2,
   "id": "beaed89f-f81a-4cce-938d-a37e68a06eb0",
   "metadata": {},
   "outputs": [
    {
     "name": "stderr",
     "output_type": "stream",
     "text": [
      "Intel(R) Extension for Scikit-learn* enabled (https://github.com/intel/scikit-learn-intelex)\n"
     ]
    }
   ],
   "source": [
    "# Import necessary libraries\n",
    "import pandas as pd  # For data manipulation\n",
    "import numpy as np   # For numerical operations\n",
    "\n",
    "# oneAPI setup and necessary imports\n",
    "from sklearnex import patch_sklearn\n",
    "patch_sklearn()\n",
    "\n",
    "from sklearn.impute import SimpleImputer\n",
    "from sklearn.preprocessing import StandardScaler\n",
    "from sklearnex.cluster import KMeans  # for clustering later if required\n"
   ]
  },
  {
   "cell_type": "raw",
   "id": "405f812d-9543-4dc4-9341-4fe74e9f8ae9",
   "metadata": {},
   "source": [
    "1. LOAD THE DATASETS"
   ]
  },
  {
   "cell_type": "code",
   "execution_count": 9,
   "id": "fe574deb-9711-470e-a531-1fbc7c04ff59",
   "metadata": {},
   "outputs": [],
   "source": [
    "# Load EV charging station datasets\n",
    "germany_data = pd.read_csv('charging_data.csv')\n",
    "usa_data = pd.read_csv('Electric_Vehicle_Charging_Stations.csv')\n",
    "\n",
    "# Load Customer Demand datasets\n",
    "traffic_nyc_data = pd.read_csv('Automated_Traffic_Volume_Counts.csv')"
   ]
  },
  {
   "cell_type": "raw",
   "id": "2034ed29-84cb-4238-93c2-f62b8db40550",
   "metadata": {},
   "source": [
    "2. INSPECT THE DATASETS"
   ]
  },
  {
   "cell_type": "code",
   "execution_count": 10,
   "id": "d9cde144-ceef-473b-90bc-096e22c74800",
   "metadata": {},
   "outputs": [
    {
     "name": "stdout",
     "output_type": "stream",
     "text": [
      "Traffic NYC Dataset: \n",
      "   RequestID           Boro    Yr   M   D  HH  MM  Vol  SegmentID   \n",
      "0      20856         Queens  2015   6  23  23  30    9     171896  \\\n",
      "1      21231  Staten Island  2015   9  14   4  15    6       9896   \n",
      "2      29279          Bronx  2017  10  19   4  30   85      77817   \n",
      "3      27019       Brooklyn  2017  11   7  18  30  168     188023   \n",
      "4      26734      Manhattan  2017  11   3  22   0  355     137516   \n",
      "\n",
      "                                         WktGeom              street   \n",
      "0   POINT (1052296.600156678 199785.26932711253)           94 AVENUE  \\\n",
      "1      POINT (942668.0589509147 171441.21296926)    RICHMOND TERRACE   \n",
      "2  POINT (1016508.0034050211 235221.59092266942)  HUNTS POINT AVENUE   \n",
      "3   POINT (992925.4316054962 184116.82855457635)     FLATBUSH AVENUE   \n",
      "4  POINT (1004175.9505178436 247779.63624949602)   WASHINGTON BRIDGE   \n",
      "\n",
      "                   fromSt                     toSt Direction  \n",
      "0              207 Street  Francis Lewis Boulevard        WB  \n",
      "1           Wright Avenue             Emeric Court        WB  \n",
      "2         Whittier Street           Randall Avenue        NB  \n",
      "3           Brighton Line            Brighton Line        NB  \n",
      "4  Harlem River Shoreline   Harlem River Shoreline        EB  \n",
      "\n",
      "Charging Data: \n",
      "   Unnamed: 0            betreiber  art_der_ladeeinrichung  anzahl_ladepunkte   \n",
      "0           0              GGEW AG   Normalladeeinrichtung                  1  \\\n",
      "1           1        Pfalzwerke AG  Schnellladeeinrichtung                  2   \n",
      "2           2  ENTEGA Energie GmbH   Normalladeeinrichtung                  2   \n",
      "3           3     Entega Plus GmbH   Normalladeeinrichtung                  2   \n",
      "4           4     Entega Plus GmbH   Normalladeeinrichtung                  2   \n",
      "\n",
      "   anschlussleistung       steckertypen1       steckertypen2 steckertypen3   \n",
      "0                4.6  AC Steckdose Typ 2                 NaN           NaN  \\\n",
      "1               75.0  AC Steckdose Typ 2   DC Kupplung Combo           NaN   \n",
      "2               44.0  AC Steckdose Typ 2  AC Steckdose Typ 2           NaN   \n",
      "3               22.0  AC Steckdose Typ 2  AC Steckdose Typ 2           NaN   \n",
      "4               22.0  AC Steckdose Typ 2  AC Steckdose Typ 2           NaN   \n",
      "\n",
      "  steckertypen4  p1_kw  ...  p4_kw  kreis_kreisfreie_stadt     ort   \n",
      "0           NaN    4.6  ...    NaN    Landkreis Bergstraße  Lorsch  \\\n",
      "1           NaN   22.0  ...    NaN    Landkreis Bergstraße  Lorsch   \n",
      "2           NaN   22.0  ...    NaN    Landkreis Bergstraße   Fürth   \n",
      "3           NaN   22.0  ...    NaN    Landkreis Bergstraße   Fürth   \n",
      "4           NaN   22.0  ...    NaN    Landkreis Bergstraße   Fürth   \n",
      "\n",
      "  postleitzahl           strasse  hausnummer adresszusatz inbetriebnahmedatum   \n",
      "0        64653       Klosterstr.          23          NaN          2017-01-02  \\\n",
      "1        64653  Nibelungenstraße     135-137          NaN          2021-04-27   \n",
      "2        64658   Krumbacher Str.          39          NaN          2017-11-21   \n",
      "3        64658     Erbacher Str.         102            a          2022-04-08   \n",
      "4        64658         Schulstr.          12          NaN          2022-04-08   \n",
      "\n",
      "  breitengrad laengengrad  \n",
      "0   49.653064    8.572109  \n",
      "1   49.652969    8.554764  \n",
      "2   49.658037    8.787881  \n",
      "3   49.663670    8.796830  \n",
      "4   49.646360    8.781410  \n",
      "\n",
      "[5 rows x 22 columns]\n",
      "\n",
      "EV Stations v1 Dataset: \n",
      "                          Station Name          Street Address          City   \n",
      "0                        BMW OF DARIEN        138-142 Ledge Rd        Darien  \\\n",
      "1         Dunkin’ - Tesla Supercharger           893 E Main St       Meriden   \n",
      "2  Town of Beacon Falls - Commuter Lot           105 N Main St  Beacon Falls   \n",
      "3                      OLD SAYBROOK VW  319 Middlesex Turnpike  Old Saybrook   \n",
      "4               Fairfield Rail Station        80 Mill Plain Rd     Fairfield   \n",
      "\n",
      "                     Access Days Time EV Level1 EVSE Num EV Level2 EVSE Num   \n",
      "0                      24 hours daily               NONE                  2  \\\n",
      "1  24 hours daily; for Tesla use only               NONE               NONE   \n",
      "2                      24 hours daily               NONE                  1   \n",
      "3                      24 hours daily               NONE                  2   \n",
      "4                      24 hours daily               NONE                  2   \n",
      "\n",
      "  EV DC Fast Count EV Other Info              New Georeferenced Column  \n",
      "0             NONE          NONE         POINT (-73.4764687 41.072882)  \n",
      "1                8          NONE          POINT (-72.773473 41.527367)  \n",
      "2             NONE          NONE  POINT (-73.065583 41.44548100000001)  \n",
      "3             NONE          NONE           POINT (-72.3825 41.3102778)  \n",
      "4             NONE          NONE          POINT (-73.264511 41.143125)  \n"
     ]
    }
   ],
   "source": [
    "# Check the first few rows to understand the structure of the datasets\n",
    "print(\"Traffic NYC Dataset: \")\n",
    "print(traffic_nyc_data.head())  # First 5 rows of the dataset\n",
    "print(\"\\nCharging Data: \")\n",
    "print(germany_data.head())\n",
    "print(\"\\nEV Stations v1 Dataset: \")\n",
    "print(usa_data.head())"
   ]
  },
  {
   "cell_type": "raw",
   "id": "85e3b97e-741d-4179-a010-da32c0629013",
   "metadata": {},
   "source": [
    "3. CHECK FOR MISSING VALUES"
   ]
  },
  {
   "cell_type": "code",
   "execution_count": 11,
   "id": "2e97b840-b321-437f-a1d9-38d7ba289e6b",
   "metadata": {},
   "outputs": [
    {
     "name": "stdout",
     "output_type": "stream",
     "text": [
      "\n",
      "Checking for missing data in NYC Traffic dataset:\n",
      "RequestID       0\n",
      "Boro            0\n",
      "Yr              0\n",
      "M               0\n",
      "D               0\n",
      "HH              0\n",
      "MM              0\n",
      "Vol             0\n",
      "SegmentID       0\n",
      "WktGeom         0\n",
      "street          0\n",
      "fromSt          0\n",
      "toSt         2002\n",
      "Direction       0\n",
      "dtype: int64\n",
      "\n",
      "Checking for missing data in Charging data:\n",
      "Unnamed: 0                    0\n",
      "betreiber                     0\n",
      "art_der_ladeeinrichung        0\n",
      "anzahl_ladepunkte             0\n",
      "anschlussleistung             0\n",
      "steckertypen1                 0\n",
      "steckertypen2              5659\n",
      "steckertypen3             34537\n",
      "steckertypen4             35638\n",
      "p1_kw                         0\n",
      "p2_kw                      5641\n",
      "p3_kw                     34537\n",
      "p4_kw                     35639\n",
      "kreis_kreisfreie_stadt        0\n",
      "ort                           0\n",
      "postleitzahl                  0\n",
      "strasse                       0\n",
      "hausnummer                    0\n",
      "adresszusatz              32147\n",
      "inbetriebnahmedatum           0\n",
      "breitengrad                   0\n",
      "laengengrad                   0\n",
      "dtype: int64\n",
      "\n",
      "Checking for missing data in EV Stations dataset:\n",
      "Station Name                0\n",
      "Street Address              0\n",
      "City                        0\n",
      "Access Days Time            0\n",
      "EV Level1 EVSE Num          0\n",
      "EV Level2 EVSE Num          0\n",
      "EV DC Fast Count            0\n",
      "EV Other Info               0\n",
      "New Georeferenced Column    0\n",
      "dtype: int64\n"
     ]
    }
   ],
   "source": [
    "print(\"\\nChecking for missing data in NYC Traffic dataset:\")\n",
    "print(traffic_nyc_data.isnull().sum())  # Count the missing values for each column\n",
    "\n",
    "print(\"\\nChecking for missing data in Charging data:\")\n",
    "print(germany_data.isnull().sum())\n",
    "\n",
    "print(\"\\nChecking for missing data in EV Stations dataset:\")\n",
    "print(usa_data.isnull().sum())"
   ]
  },
  {
   "cell_type": "raw",
   "id": "bf5e4b68-f783-4ea2-83e0-9aafb7513a21",
   "metadata": {},
   "source": [
    "4. CLEAN AND PREPROCESS THE DATA\n",
    "---- OneDAL Integration for Data Preprocessing ----"
   ]
  },
  {
   "cell_type": "raw",
   "id": "89f2220b-05f8-4882-b55c-7641c9e3db34",
   "metadata": {},
   "source": [
    "4.1 Imputation of Missing Data using oneDAL"
   ]
  },
  {
   "cell_type": "code",
   "execution_count": 13,
   "id": "f8bd0393-9aeb-41bf-8e76-61391648ecb1",
   "metadata": {},
   "outputs": [],
   "source": [
    "# Filling missing values with the mean for numeric columns\n",
    "# Function to safely apply imputation if numeric columns exist\n",
    "def impute_numeric_data(df):\n",
    "    numeric_cols = df.select_dtypes(include=np.number)\n",
    "    if numeric_cols.shape[1] > 0:  # Check if there are numeric columns\n",
    "        imputer = SimpleImputer(strategy='mean')\n",
    "        imputed_data = imputer.fit_transform(numeric_cols)\n",
    "        # Convert imputed numpy array back to DataFrame\n",
    "        return pd.DataFrame(imputed_data, columns=numeric_cols.columns)\n",
    "    else:\n",
    "        # If no numeric columns, return the original DataFrame without changes\n",
    "        return numeric_cols\n",
    "\n",
    "# Apply imputation only to numeric columns\n",
    "traffic_nyc_data_imputed = impute_numeric_data(traffic_nyc_data)\n",
    "germany_data_imputed = impute_numeric_data(germany_data)\n",
    "usa_data_imputed = impute_numeric_data(usa_data)\n",
    "\n",
    "# Combine imputed numeric data with non-numeric columns\n",
    "traffic_nyc_data_clean = pd.concat([pd.DataFrame(traffic_nyc_data_imputed), traffic_nyc_data.select_dtypes(exclude=np.number).reset_index(drop=True)], axis=1)\n",
    "germany_data_clean = pd.concat([pd.DataFrame(germany_data_imputed), germany_data.select_dtypes(exclude=np.number).reset_index(drop=True)], axis=1)\n",
    "usa_data_clean = pd.concat([pd.DataFrame(usa_data_imputed), usa_data.select_dtypes(exclude=np.number).reset_index(drop=True)], axis=1)\n"
   ]
  },
  {
   "cell_type": "raw",
   "id": "f3180b01-a923-4852-b37b-61e2558b4b4c",
   "metadata": {},
   "source": [
    "4.2 Feature Scaling using oneDAL"
   ]
  },
  {
   "cell_type": "code",
   "execution_count": 15,
   "id": "f4eee42c-a16b-4fd3-8d99-92665c9942c7",
   "metadata": {},
   "outputs": [],
   "source": [
    "# Scaling the numeric data for better performance in algorithms\n",
    "# Function to safely apply scaling if numeric columns exist\n",
    "def scale_numeric_data(df):\n",
    "    numeric_cols = df.select_dtypes(include=np.number)\n",
    "    if numeric_cols.shape[1] > 0:  # Check if there are numeric columns\n",
    "        scaler = StandardScaler()\n",
    "        scaled_data = scaler.fit_transform(numeric_cols)\n",
    "        # Convert scaled numpy array back to DataFrame\n",
    "        return pd.DataFrame(scaled_data, columns=numeric_cols.columns)\n",
    "    else:\n",
    "        # If no numeric columns, return the original DataFrame without changes\n",
    "        return numeric_cols\n",
    "\n",
    "# Apply scaling only to numeric columns\n",
    "traffic_nyc_data_scaled = scale_numeric_data(traffic_nyc_data_clean)\n",
    "germany_data_scaled = scale_numeric_data(germany_data_clean)\n",
    "usa_data_scaled = scale_numeric_data(usa_data_clean)\n",
    "\n",
    "# Combine scaled numeric data with non-numeric columns\n",
    "traffic_nyc_dataclean = pd.concat([pd.DataFrame(traffic_nyc_data_scaled), traffic_nyc_data_clean.select_dtypes(exclude=np.number).reset_index(drop=True)], axis=1)\n",
    "germany_data_clean = pd.concat([pd.DataFrame(germany_data_scaled), germany_data_clean.select_dtypes(exclude=np.number).reset_index(drop=True)], axis=1)\n",
    "usa_data_clean = pd.concat([pd.DataFrame(usa_data_scaled), usa_data_clean.select_dtypes(exclude=np.number).reset_index(drop=True)], axis=1)"
   ]
  },
  {
   "cell_type": "raw",
   "id": "618fab40-91c2-47ae-bf50-b1153e4117a6",
   "metadata": {},
   "source": [
    "5.REMOVE DUPLICATE ROWS IF ANY"
   ]
  },
  {
   "cell_type": "code",
   "execution_count": 17,
   "id": "8c7ab780-bbce-472a-8107-8681f111a156",
   "metadata": {},
   "outputs": [],
   "source": [
    "traffic_nyc_data_clean = traffic_nyc_data_clean.drop_duplicates()\n",
    "germany_data_clean = germany_data_clean.drop_duplicates()\n",
    "usa_data_clean = usa_data_clean.drop_duplicates()\n"
   ]
  },
  {
   "cell_type": "raw",
   "id": "954ed1e5-9e62-41e9-a92d-ca8c676220cb",
   "metadata": {},
   "source": [
    "6.FURTHER INSPECTION: CHECK THE COLUMN NAMES AND DATA TYPES"
   ]
  },
  {
   "cell_type": "code",
   "execution_count": 18,
   "id": "bfa1e798-986d-4edf-9d17-1aba523feb42",
   "metadata": {},
   "outputs": [
    {
     "name": "stdout",
     "output_type": "stream",
     "text": [
      "\n",
      "Column names and data types for Traffic NYC dataset:\n",
      "<class 'pandas.core.frame.DataFrame'>\n",
      "Index: 26874241 entries, 0 to 27190510\n",
      "Data columns (total 14 columns):\n",
      " #   Column     Dtype  \n",
      "---  ------     -----  \n",
      " 0   RequestID  float64\n",
      " 1   Yr         float64\n",
      " 2   M          float64\n",
      " 3   D          float64\n",
      " 4   HH         float64\n",
      " 5   MM         float64\n",
      " 6   Vol        float64\n",
      " 7   SegmentID  float64\n",
      " 8   Boro       object \n",
      " 9   WktGeom    object \n",
      " 10  street     object \n",
      " 11  fromSt     object \n",
      " 12  toSt       object \n",
      " 13  Direction  object \n",
      "dtypes: float64(8), object(6)\n",
      "memory usage: 3.0+ GB\n",
      "None\n",
      "\n",
      "Column names and data types for Charging Data dataset:\n",
      "<class 'pandas.core.frame.DataFrame'>\n",
      "RangeIndex: 36770 entries, 0 to 36769\n",
      "Data columns (total 22 columns):\n",
      " #   Column                  Non-Null Count  Dtype  \n",
      "---  ------                  --------------  -----  \n",
      " 0   Unnamed: 0              36770 non-null  float64\n",
      " 1   anzahl_ladepunkte       36770 non-null  float64\n",
      " 2   anschlussleistung       36770 non-null  float64\n",
      " 3   p1_kw                   36770 non-null  float64\n",
      " 4   p2_kw                   36770 non-null  float64\n",
      " 5   p3_kw                   36770 non-null  float64\n",
      " 6   p4_kw                   36770 non-null  float64\n",
      " 7   postleitzahl            36770 non-null  float64\n",
      " 8   breitengrad             36770 non-null  float64\n",
      " 9   laengengrad             36770 non-null  float64\n",
      " 10  betreiber               36770 non-null  object \n",
      " 11  art_der_ladeeinrichung  36770 non-null  object \n",
      " 12  steckertypen1           36770 non-null  object \n",
      " 13  steckertypen2           31111 non-null  object \n",
      " 14  steckertypen3           2233 non-null   object \n",
      " 15  steckertypen4           1132 non-null   object \n",
      " 16  kreis_kreisfreie_stadt  36770 non-null  object \n",
      " 17  ort                     36770 non-null  object \n",
      " 18  strasse                 36770 non-null  object \n",
      " 19  hausnummer              36770 non-null  object \n",
      " 20  adresszusatz            4623 non-null   object \n",
      " 21  inbetriebnahmedatum     36770 non-null  object \n",
      "dtypes: float64(10), object(12)\n",
      "memory usage: 6.2+ MB\n",
      "None\n",
      "\n",
      "Column names and data types for EV Stations v1 dataset:\n",
      "<class 'pandas.core.frame.DataFrame'>\n",
      "RangeIndex: 385 entries, 0 to 384\n",
      "Data columns (total 9 columns):\n",
      " #   Column                    Non-Null Count  Dtype \n",
      "---  ------                    --------------  ----- \n",
      " 0   Station Name              385 non-null    object\n",
      " 1   Street Address            385 non-null    object\n",
      " 2   City                      385 non-null    object\n",
      " 3   Access Days Time          385 non-null    object\n",
      " 4   EV Level1 EVSE Num        385 non-null    object\n",
      " 5   EV Level2 EVSE Num        385 non-null    object\n",
      " 6   EV DC Fast Count          385 non-null    object\n",
      " 7   EV Other Info             385 non-null    object\n",
      " 8   New Georeferenced Column  385 non-null    object\n",
      "dtypes: object(9)\n",
      "memory usage: 27.2+ KB\n",
      "None\n"
     ]
    }
   ],
   "source": [
    "print(\"\\nColumn names and data types for Traffic NYC dataset:\")\n",
    "print(traffic_nyc_data_clean.info())  # Provides information about the columns and their data types\n",
    "\n",
    "print(\"\\nColumn names and data types for Charging Data dataset:\")\n",
    "print(germany_data_clean.info())\n",
    "\n",
    "print(\"\\nColumn names and data types for EV Stations v1 dataset:\")\n",
    "print(usa_data_clean.info())\n"
   ]
  },
  {
   "cell_type": "raw",
   "id": "1ae796f9-0342-4ac4-8c98-ae109d99c2ac",
   "metadata": {},
   "source": [
    "7. SAVE THE CLEANED DATA"
   ]
  },
  {
   "cell_type": "code",
   "execution_count": 21,
   "id": "324c7833-b1c9-46a2-9401-d472f9a45e93",
   "metadata": {},
   "outputs": [],
   "source": [
    "traffic_nyc_data_clean.to_csv('cleaned_datasets_INTEL/cleaned_traffic_nyc_data.csv', index=False)\n",
    "germany_data_clean.to_csv('cleaned_datasets_INTEL/cleaned_germany_data.csv', index=False)\n",
    "usa_data_clean.to_csv('cleaned_datasets_INTEL/cleaned_usa_data.csv', index=False)"
   ]
  },
  {
   "cell_type": "markdown",
   "id": "10f8fe47-1468-4d6b-a7de-836bcae4bf58",
   "metadata": {},
   "source": [
    "DATA ANALYSIS"
   ]
  },
  {
   "cell_type": "raw",
   "id": "8874907e-9bcc-4a3f-a6b2-a98a5a5d3a84",
   "metadata": {},
   "source": [
    "Analyze the data to find patterns. For instance, use the traffic data to identify high-demand areas. You can use simple statistical analysis to figure out where the most traffic is and how it relates to current charging station locations."
   ]
  },
  {
   "cell_type": "code",
   "execution_count": 4,
   "id": "88f9fa31-e459-4038-8e2f-d52a5c615b02",
   "metadata": {},
   "outputs": [],
   "source": [
    "import pandas as pd  # For data manipulation\n",
    "import matplotlib.pyplot as plt  # For visualization\n",
    "import seaborn as sns  # For enhanced visualizations\n",
    "import geopandas as gpd  # For geospatial analysis (mapping coordinates)\n",
    "from sklearnex.cluster import KMeans  # oneDAL optimized KMeans\n",
    "from sklearnex.decomposition import PCA  # oneDAL optimized PCA"
   ]
  },
  {
   "cell_type": "code",
   "execution_count": 5,
   "id": "5d866855-e02e-425e-be6d-a1a07cd77ae2",
   "metadata": {},
   "outputs": [],
   "source": [
    "#2. Load the relevant datasets (cleaned datasets from Step 1)\n",
    "ev_germany = pd.read_csv('cleaned_datasets_INTEL/cleaned_germany_data.csv')\n",
    "ev_usa = pd.read_csv('cleaned_datasets_INTEL/cleaned_usa_data.csv')\n",
    "traffic_nyc = pd.read_csv('cleaned_datasets_INTEL/cleaned_traffic_nyc_data.csv')"
   ]
  },
  {
   "cell_type": "raw",
   "id": "9d5df9ed-b88d-45d7-9b24-840f51957587",
   "metadata": {},
   "source": [
    " Section 1: Apply K-Means Clustering to Identify High-Demand Areas (Intel oneDAL)"
   ]
  },
  {
   "cell_type": "code",
   "execution_count": 6,
   "id": "5882bc05-7666-4320-bfa3-ff0be5637602",
   "metadata": {},
   "outputs": [],
   "source": [
    "# Group NYC traffic data by location (SegmentID) and calculate total traffic volume per location\n",
    "traffic_by_location = traffic_nyc.groupby('SegmentID')['Vol'].sum().reset_index()\n",
    "traffic_by_location = traffic_by_location.sort_values(by='Vol', ascending=False)"
   ]
  },
  {
   "cell_type": "code",
   "execution_count": 7,
   "id": "4d24a874-b90a-48fe-8877-1f9f330a3a71",
   "metadata": {},
   "outputs": [],
   "source": [
    "# Applying KMeans clustering to find high-traffic clusters\n",
    "kmeans_algo = KMeans(n_clusters=3, random_state=0, max_iter=300)  # Intel oneDAL optimized KMeans\n",
    "traffic_by_location['Cluster'] = kmeans_algo.fit_predict(traffic_by_location[['Vol']])"
   ]
  },
  {
   "cell_type": "code",
   "execution_count": 8,
   "id": "f3394810-3f93-4b4b-8774-d5dc536e8d7a",
   "metadata": {},
   "outputs": [
    {
     "data": {
      "image/png": "[encoded data removed]",
      "text/plain": [
       "<Figure size 1000x600 with 1 Axes>"
      ]
     },
     "metadata": {},
     "output_type": "display_data"
    }
   ],
   "source": [
    "# Visualizing Clusters (Top 10 high-traffic locations with their cluster groupings)\n",
    "plt.figure(figsize=(10,6))\n",
    "sns.barplot(x=traffic_by_location['SegmentID'].head(10), y=traffic_by_location['Vol'].head(10), hue=traffic_by_location['Cluster'].head(10), palette=\"Blues_d\")\n",
    "plt.title('Top 10 High Traffic Locations in NYC (Clustered)')\n",
    "plt.xlabel('Segment ID')\n",
    "plt.ylabel('Total Traffic Volume')\n",
    "plt.show()"
   ]
  },
  {
   "cell_type": "raw",
   "id": "66f5c503-bd46-4dd4-a73c-028a3dc7a016",
   "metadata": {},
   "source": [
    "For simplicity, let's start by mapping the USA and German charging stations\n",
    "We will need the 'Georeferences' from the USA dataset and coordinates from German dataset"
   ]
  },
  {
   "cell_type": "raw",
   "id": "17efb1b2-0533-4298-809f-6e6abbc1bc31",
   "metadata": {},
   "source": [
    "Section 3: Map visualization (world map)"
   ]
  },
  {
   "cell_type": "code",
   "execution_count": 32,
   "id": "afa2a055-38b9-46a1-8a48-bd50affbf7f2",
   "metadata": {},
   "outputs": [
    {
     "name": "stderr",
     "output_type": "stream",
     "text": [
      "/home/u08d73873001a620a84bf629071ef7b7/.local/lib/python3.10/site-packages/geopandas/plotting.py:968: UserWarning: The GeoSeries you are attempting to plot is composed of empty geometries. Nothing has been displayed.\n",
      "  return plot_dataframe(data, *args, **kwargs)\n"
     ]
    },
    {
     "data": {
      "image/png": "[encoded data removed]",
      "text/plain": [
       "<Figure size 1500x800 with 2 Axes>"
      ]
     },
     "metadata": {},
     "output_type": "display_data"
    }
   ],
   "source": [
    "# Fix the error in 'Georeferences' (USA dataset) to properly extract latitude and longitude\n",
    "ev_usa[['latitude', 'longitude']] = ev_usa['New Georeferenced Column'].str.extract(r'\\(([^,]+), ([^\\)]+)\\)')  # Fixed regex\n",
    "ev_usa['latitude'] = pd.to_numeric(ev_usa['latitude'])\n",
    "ev_usa['longitude'] = pd.to_numeric(ev_usa['longitude'])\n",
    "\n",
    "# Germany dataset already has proper longitude/latitude columns, validate and clean if needed\n",
    "ev_germany['breitengrad'] = pd.to_numeric(ev_germany['breitengrad'], errors='coerce')\n",
    "ev_germany['laengengrad'] = pd.to_numeric(ev_germany['laengengrad'], errors='coerce')\n",
    "ev_germany = ev_germany.dropna(subset=['breitengrad', 'laengengrad'])  # Drop rows with missing coordinates\n",
    "\n",
    "# Create a GeoDataFrame for the EV charging stations in USA and Germany\n",
    "gdf_usa = gpd.GeoDataFrame(ev_usa, geometry=gpd.points_from_xy(ev_usa['longitude'], ev_usa['latitude']))\n",
    "gdf_germany = gpd.GeoDataFrame(ev_germany, geometry=gpd.points_from_xy(ev_germany['laengengrad'], ev_germany['breitengrad']))\n",
    "\n",
    "world = gpd.read_file('ne_110m_admin_0_countries.shp')  # World basemap\n",
    "\n",
    "fig, ax = plt.subplots(1, 2, figsize=(15, 8))\n",
    "\n",
    "# Plot USA (Fix: Ensure that markers for USA are properly plotted)\n",
    "world.plot(ax=ax[0], color='lightgray')\n",
    "gdf_usa.plot(ax=ax[0], color='blue', markersize=5, label='USA EV Stations')\n",
    "ax[0].set_xlim([-130, -60])  # Limit to USA region for proper display\n",
    "ax[0].set_ylim([20, 55])\n",
    "ax[0].set_title('EV Charging Stations in the USA')\n",
    "\n",
    "# Plot Germany (Fix: Ensure correct coordinates and limit the view)\n",
    "world.plot(ax=ax[1], color='lightgray')\n",
    "gdf_germany.plot(ax=ax[1], color='red', markersize=5, label='Germany EV Stations')\n",
    "ax[1].set_xlim([5, 15])  # Limit to Germany region\n",
    "ax[1].set_ylim([47, 55])\n",
    "ax[1].set_title('EV Charging Stations in Germany')\n",
    "\n",
    "plt.show()"
   ]
  },
  {
   "cell_type": "raw",
   "id": "b7628458-8b4d-4527-9d97-937caf5126f1",
   "metadata": {},
   "source": [
    "Section 4: Analyze gaps and map high-demand areas (Clusters)"
   ]
  },
  {
   "cell_type": "code",
   "execution_count": 33,
   "id": "0e9a7b31-cd63-4d5d-a83d-210e04429ce6",
   "metadata": {},
   "outputs": [
    {
     "name": "stderr",
     "output_type": "stream",
     "text": [
      "/tmp/ipykernel_259371/2450055647.py:6: FutureWarning: \n",
      "\n",
      "Passing `palette` without assigning `hue` is deprecated and will be removed in v0.14.0. Assign the `x` variable to `hue` and set `legend=False` for the same effect.\n",
      "\n",
      "  sns.barplot(x=high_demand_locations['SegmentID'].head(10), y=high_demand_locations['Vol'].head(10), palette=\"Oranges_d\")\n"
     ]
    },
    {
     "data": {
      "image/png": "[encoded data removed]",
      "text/plain": [
       "<Figure size 1000x600 with 1 Axes>"
      ]
     },
     "metadata": {},
     "output_type": "display_data"
    }
   ],
   "source": [
    "# Assume traffic locations with more than 100,000 volume are high-demand areas\n",
    "high_demand_locations = traffic_by_location[traffic_by_location['Vol'] > 100000]\n",
    "\n",
    "# Visualize high-demand areas for easier understanding\n",
    "plt.figure(figsize=(10,6))\n",
    "sns.barplot(x=high_demand_locations['SegmentID'].head(10), y=high_demand_locations['Vol'].head(10), palette=\"Oranges_d\")\n",
    "plt.title('Top 10 High-Demand Traffic Locations in NYC')\n",
    "plt.xlabel('Segment ID')\n",
    "plt.ylabel('Total Traffic Volume')\n",
    "plt.show()"
   ]
  },
  {
   "cell_type": "markdown",
   "id": "20d6fdc8-59dd-45e2-a39a-617afc9143d1",
   "metadata": {},
   "source": [
    "TRAIN THE MODEL"
   ]
  },
  {
   "cell_type": "code",
   "execution_count": 1,
   "id": "85af912c-bdea-44bf-9af4-5151e0d2b9a3",
   "metadata": {},
   "outputs": [
    {
     "name": "stderr",
     "output_type": "stream",
     "text": [
      "Intel(R) Extension for Scikit-learn* enabled (https://github.com/intel/scikit-learn-intelex)\n"
     ]
    }
   ],
   "source": [
    "# Step 1: Apply Intel optimizations (oneDAL)\n",
    "from sklearnex import patch_sklearn\n",
    "patch_sklearn()  # Enable optimizations for sklearn models\n",
    "\n",
    "# Step 2: Load necessary libraries\n",
    "import pandas as pd\n",
    "import re\n",
    "from sklearn.model_selection import train_test_split\n",
    "from sklearnex.linear_model import LinearRegression\n",
    "from sklearnex.cluster import KMeans\n",
    "from sklearn.metrics import mean_squared_error\n",
    "import matplotlib.pyplot as plt"
   ]
  },
  {
   "cell_type": "raw",
   "id": "ade208d2-a28e-45b9-86d5-c0f54ea5b587",
   "metadata": {},
   "source": [
    " Load datasets"
   ]
  },
  {
   "cell_type": "code",
   "execution_count": 2,
   "id": "92787255-50ff-4714-bf36-0a764f89687d",
   "metadata": {},
   "outputs": [
    {
     "name": "stdout",
     "output_type": "stream",
     "text": [
      "<class 'pandas.core.frame.DataFrame'>\n",
      "RangeIndex: 385 entries, 0 to 384\n",
      "Data columns (total 9 columns):\n",
      " #   Column                    Non-Null Count  Dtype \n",
      "---  ------                    --------------  ----- \n",
      " 0   Station Name              385 non-null    object\n",
      " 1   Street Address            385 non-null    object\n",
      " 2   City                      385 non-null    object\n",
      " 3   Access Days Time          385 non-null    object\n",
      " 4   EV Level1 EVSE Num        385 non-null    object\n",
      " 5   EV Level2 EVSE Num        385 non-null    object\n",
      " 6   EV DC Fast Count          385 non-null    object\n",
      " 7   EV Other Info             385 non-null    object\n",
      " 8   New Georeferenced Column  385 non-null    object\n",
      "dtypes: object(9)\n",
      "memory usage: 27.2+ KB\n",
      "None\n",
      "                          Station Name          Street Address          City   \n",
      "0                        BMW OF DARIEN        138-142 Ledge Rd        Darien  \\\n",
      "1         Dunkin’ - Tesla Supercharger           893 E Main St       Meriden   \n",
      "2  Town of Beacon Falls - Commuter Lot           105 N Main St  Beacon Falls   \n",
      "3                      OLD SAYBROOK VW  319 Middlesex Turnpike  Old Saybrook   \n",
      "4               Fairfield Rail Station        80 Mill Plain Rd     Fairfield   \n",
      "\n",
      "                     Access Days Time EV Level1 EVSE Num EV Level2 EVSE Num   \n",
      "0                      24 hours daily               NONE                  2  \\\n",
      "1  24 hours daily; for Tesla use only               NONE               NONE   \n",
      "2                      24 hours daily               NONE                  1   \n",
      "3                      24 hours daily               NONE                  2   \n",
      "4                      24 hours daily               NONE                  2   \n",
      "\n",
      "  EV DC Fast Count EV Other Info              New Georeferenced Column  \n",
      "0             NONE          NONE         POINT (-73.4764687 41.072882)  \n",
      "1                8          NONE          POINT (-72.773473 41.527367)  \n",
      "2             NONE          NONE  POINT (-73.065583 41.44548100000001)  \n",
      "3             NONE          NONE           POINT (-72.3825 41.3102778)  \n",
      "4             NONE          NONE          POINT (-73.264511 41.143125)  \n"
     ]
    }
   ],
   "source": [
    "traffic_data = pd.read_csv('cleaned_datasets_INTEL/cleaned_traffic_nyc_data.csv')\n",
    "charging_data = pd.read_csv('cleaned_datasets_INTEL/cleaned_usa_data.csv')\n",
    "\n",
    "print(charging_data.info())  # Check if rows are being read correctly\n",
    "print(charging_data.head())  # View the top rows"
   ]
  },
  {
   "cell_type": "code",
   "execution_count": 47,
   "id": "d9815014-5d61-4bd3-82ca-1cfa10c2e1c8",
   "metadata": {},
   "outputs": [
    {
     "name": "stdout",
     "output_type": "stream",
     "text": [
      "   RequestID      Yr     M     D    HH    MM    Vol  SegmentID           Boro   \n",
      "0    20856.0  2015.0   6.0  23.0  23.0  30.0    9.0   171896.0         Queens  \\\n",
      "1    21231.0  2015.0   9.0  14.0   4.0  15.0    6.0     9896.0  Staten Island   \n",
      "2    29279.0  2017.0  10.0  19.0   4.0  30.0   85.0    77817.0          Bronx   \n",
      "3    27019.0  2017.0  11.0   7.0  18.0  30.0  168.0   188023.0       Brooklyn   \n",
      "4    26734.0  2017.0  11.0   3.0  22.0   0.0  355.0   137516.0      Manhattan   \n",
      "\n",
      "                                         WktGeom              street   \n",
      "0   POINT (1052296.600156678 199785.26932711253)           94 AVENUE  \\\n",
      "1      POINT (942668.0589509147 171441.21296926)    RICHMOND TERRACE   \n",
      "2  POINT (1016508.0034050211 235221.59092266942)  HUNTS POINT AVENUE   \n",
      "3   POINT (992925.4316054962 184116.82855457635)     FLATBUSH AVENUE   \n",
      "4  POINT (1004175.9505178436 247779.63624949602)   WASHINGTON BRIDGE   \n",
      "\n",
      "                   fromSt                     toSt Direction  \n",
      "0              207 Street  Francis Lewis Boulevard        WB  \n",
      "1           Wright Avenue             Emeric Court        WB  \n",
      "2         Whittier Street           Randall Avenue        NB  \n",
      "3           Brighton Line            Brighton Line        NB  \n",
      "4  Harlem River Shoreline   Harlem River Shoreline        EB  \n"
     ]
    }
   ],
   "source": [
    "print(traffic_data.head())"
   ]
  },
  {
   "cell_type": "raw",
   "id": "5af209c7-e3de-4cde-8a1e-3b938ee2e829",
   "metadata": {},
   "source": [
    "Data Preprocessing"
   ]
  },
  {
   "cell_type": "code",
   "execution_count": 3,
   "id": "e3402ff3-4fe5-4fe8-a140-1539dfabc828",
   "metadata": {},
   "outputs": [
    {
     "name": "stdout",
     "output_type": "stream",
     "text": [
      "               New Georeferenced Column   Latitude  Longitude\n",
      "0         POINT (-73.4764687 41.072882)  41.072882 -73.476469\n",
      "1          POINT (-72.773473 41.527367)  41.527367 -72.773473\n",
      "2  POINT (-73.065583 41.44548100000001)  41.445481 -73.065583\n",
      "3           POINT (-72.3825 41.3102778)  41.310278 -72.382500\n",
      "4          POINT (-73.264511 41.143125)  41.143125 -73.264511\n",
      "Remaining rows after extraction: 385\n"
     ]
    }
   ],
   "source": [
    "import re\n",
    "\n",
    "# Function to extract coordinates with improved debugging\n",
    "def extract_geo_coordinates(geo_column):\n",
    "    # Ensure that we're handling non-null values\n",
    "    if isinstance(geo_column, str) and geo_column.startswith(\"POINT\"):\n",
    "        match = re.search(r'POINT \\(([^ ]+) ([^ ]+)\\)', geo_column)\n",
    "        if match:\n",
    "            lon, lat = match.groups()\n",
    "            return float(lat), float(lon)\n",
    "        else:\n",
    "            print(f\"No match found for: {geo_column}\")  # Print when match fails\n",
    "    else:\n",
    "        print(f\"Invalid or missing data: {geo_column}\")  # Print when data is invalid or null\n",
    "    return None, None\n",
    "\n",
    "# Apply the function and debug any problematic rows\n",
    "charging_data['Latitude'], charging_data['Longitude'] = zip(*charging_data['New Georeferenced Column'].apply(extract_geo_coordinates))\n",
    "\n",
    "# Check if the coordinates were extracted correctly\n",
    "print(charging_data[['New Georeferenced Column', 'Latitude', 'Longitude']].head())\n",
    "\n",
    "# Drop rows where coordinates could not be extracted\n",
    "charging_data.dropna(subset=['Latitude', 'Longitude'], inplace=True)\n",
    "\n",
    "# Check how many rows remain after extraction\n",
    "print(f\"Remaining rows after extraction: {len(charging_data)}\")\n"
   ]
  },
  {
   "cell_type": "code",
   "execution_count": 70,
   "id": "9a064af2-3c25-4390-8234-efb17a1eb9c0",
   "metadata": {},
   "outputs": [
    {
     "name": "stdout",
     "output_type": "stream",
     "text": [
      "   RequestID      Yr     M     D    HH    MM    Vol  SegmentID           Boro   \n",
      "0    20856.0  2015.0   6.0  23.0  23.0  30.0    9.0   171896.0         Queens  \\\n",
      "1    21231.0  2015.0   9.0  14.0   4.0  15.0    6.0     9896.0  Staten Island   \n",
      "2    29279.0  2017.0  10.0  19.0   4.0  30.0   85.0    77817.0          Bronx   \n",
      "3    27019.0  2017.0  11.0   7.0  18.0  30.0  168.0   188023.0       Brooklyn   \n",
      "4    26734.0  2017.0  11.0   3.0  22.0   0.0  355.0   137516.0      Manhattan   \n",
      "\n",
      "                                        WktGeom              street   \n",
      "0   POINT (1052296.600156678 199785.26932711253           94 AVENUE  \\\n",
      "1      POINT (942668.0589509147 171441.21296926    RICHMOND TERRACE   \n",
      "2  POINT (1016508.0034050211 235221.59092266942  HUNTS POINT AVENUE   \n",
      "3   POINT (992925.4316054962 184116.82855457635     FLATBUSH AVENUE   \n",
      "4  POINT (1004175.9505178436 247779.63624949602   WASHINGTON BRIDGE   \n",
      "\n",
      "                   fromSt                     toSt Direction  \n",
      "0              207 Street  Francis Lewis Boulevard        WB  \n",
      "1           Wright Avenue             Emeric Court        WB  \n",
      "2         Whittier Street           Randall Avenue        NB  \n",
      "3           Brighton Line            Brighton Line        NB  \n",
      "4  Harlem River Shoreline   Harlem River Shoreline        EB  \n"
     ]
    }
   ],
   "source": [
    "print(traffic_data.head())"
   ]
  },
  {
   "cell_type": "code",
   "execution_count": 65,
   "id": "dcac7e1d-ff43-4062-ac33-d539d1a074d1",
   "metadata": {},
   "outputs": [
    {
     "name": "stdout",
     "output_type": "stream",
     "text": [
      "['POINT (1052296.600156678 199785.26932711253)'\n",
      " 'POINT (942668.0589509147 171441.21296926)'\n",
      " 'POINT (1016508.0034050211 235221.59092266942)' ...\n",
      " 'POINT (1004380.2714909095 238618.42190746102)'\n",
      " 'POINT (963533.4360886444 171080.38533819612)' 'POINT (992024 192916.9)']\n"
     ]
    }
   ],
   "source": [
    "print(traffic_data['WktGeom'].unique())"
   ]
  },
  {
   "cell_type": "code",
   "execution_count": 4,
   "id": "431205dd-ccc6-40c8-b2cb-d6293f3f2ee5",
   "metadata": {},
   "outputs": [
    {
     "ename": "ValueError",
     "evalue": "Columns must be same length as key",
     "output_type": "error",
     "traceback": [
      "\u001b[0;31m---------------------------------------------------------------------------\u001b[0m",
      "\u001b[0;31mValueError\u001b[0m                                Traceback (most recent call last)",
      "Cell \u001b[0;32mIn[4], line 5\u001b[0m\n\u001b[1;32m      2\u001b[0m traffic_data[\u001b[38;5;124m'\u001b[39m\u001b[38;5;124mWktGeom\u001b[39m\u001b[38;5;124m'\u001b[39m] \u001b[38;5;241m=\u001b[39m traffic_data[\u001b[38;5;124m'\u001b[39m\u001b[38;5;124mWktGeom\u001b[39m\u001b[38;5;124m'\u001b[39m]\u001b[38;5;241m.\u001b[39mstr\u001b[38;5;241m.\u001b[39mreplace(\u001b[38;5;124m'\u001b[39m\u001b[38;5;124mPOINT\u001b[39m\u001b[38;5;124m\\\u001b[39m\u001b[38;5;124m(\u001b[39m\u001b[38;5;124m'\u001b[39m, \u001b[38;5;124m'\u001b[39m\u001b[38;5;124m'\u001b[39m)\u001b[38;5;241m.\u001b[39mstr\u001b[38;5;241m.\u001b[39mreplace(\u001b[38;5;124m'\u001b[39m\u001b[38;5;124m\\\u001b[39m\u001b[38;5;124m)\u001b[39m\u001b[38;5;124m'\u001b[39m, \u001b[38;5;124m'\u001b[39m\u001b[38;5;124m'\u001b[39m)\n\u001b[1;32m      4\u001b[0m \u001b[38;5;66;03m# Split the WktGeom column into Easting and Northing\u001b[39;00m\n\u001b[0;32m----> 5\u001b[0m \u001b[43mtraffic_data\u001b[49m\u001b[43m[\u001b[49m\u001b[43m[\u001b[49m\u001b[38;5;124;43m'\u001b[39;49m\u001b[38;5;124;43mEasting\u001b[39;49m\u001b[38;5;124;43m'\u001b[39;49m\u001b[43m,\u001b[49m\u001b[43m \u001b[49m\u001b[38;5;124;43m'\u001b[39;49m\u001b[38;5;124;43mNorthing\u001b[39;49m\u001b[38;5;124;43m'\u001b[39;49m\u001b[43m]\u001b[49m\u001b[43m]\u001b[49m \u001b[38;5;241m=\u001b[39m traffic_data[\u001b[38;5;124m'\u001b[39m\u001b[38;5;124mWktGeom\u001b[39m\u001b[38;5;124m'\u001b[39m]\u001b[38;5;241m.\u001b[39mstr\u001b[38;5;241m.\u001b[39msplit(expand\u001b[38;5;241m=\u001b[39m\u001b[38;5;28;01mTrue\u001b[39;00m)\n\u001b[1;32m      7\u001b[0m \u001b[38;5;66;03m# Convert the columns to float type\u001b[39;00m\n\u001b[1;32m      8\u001b[0m traffic_data[\u001b[38;5;124m'\u001b[39m\u001b[38;5;124mEasting\u001b[39m\u001b[38;5;124m'\u001b[39m] \u001b[38;5;241m=\u001b[39m traffic_data[\u001b[38;5;124m'\u001b[39m\u001b[38;5;124mEasting\u001b[39m\u001b[38;5;124m'\u001b[39m]\u001b[38;5;241m.\u001b[39mastype(\u001b[38;5;28mfloat\u001b[39m)\n",
      "File \u001b[0;32m/usr/local/lib/python3.10/dist-packages/pandas/core/frame.py:3948\u001b[0m, in \u001b[0;36mDataFrame.__setitem__\u001b[0;34m(self, key, value)\u001b[0m\n\u001b[1;32m   3946\u001b[0m     \u001b[38;5;28mself\u001b[39m\u001b[38;5;241m.\u001b[39m_setitem_frame(key, value)\n\u001b[1;32m   3947\u001b[0m \u001b[38;5;28;01melif\u001b[39;00m \u001b[38;5;28misinstance\u001b[39m(key, (Series, np\u001b[38;5;241m.\u001b[39mndarray, \u001b[38;5;28mlist\u001b[39m, Index)):\n\u001b[0;32m-> 3948\u001b[0m     \u001b[38;5;28;43mself\u001b[39;49m\u001b[38;5;241;43m.\u001b[39;49m\u001b[43m_setitem_array\u001b[49m\u001b[43m(\u001b[49m\u001b[43mkey\u001b[49m\u001b[43m,\u001b[49m\u001b[43m \u001b[49m\u001b[43mvalue\u001b[49m\u001b[43m)\u001b[49m\n\u001b[1;32m   3949\u001b[0m \u001b[38;5;28;01melif\u001b[39;00m \u001b[38;5;28misinstance\u001b[39m(value, DataFrame):\n\u001b[1;32m   3950\u001b[0m     \u001b[38;5;28mself\u001b[39m\u001b[38;5;241m.\u001b[39m_set_item_frame_value(key, value)\n",
      "File \u001b[0;32m/usr/local/lib/python3.10/dist-packages/pandas/core/frame.py:3990\u001b[0m, in \u001b[0;36mDataFrame._setitem_array\u001b[0;34m(self, key, value)\u001b[0m\n\u001b[1;32m   3985\u001b[0m \u001b[38;5;28;01melse\u001b[39;00m:\n\u001b[1;32m   3986\u001b[0m     \u001b[38;5;66;03m# Note: unlike self.iloc[:, indexer] = value, this will\u001b[39;00m\n\u001b[1;32m   3987\u001b[0m     \u001b[38;5;66;03m#  never try to overwrite values inplace\u001b[39;00m\n\u001b[1;32m   3989\u001b[0m     \u001b[38;5;28;01mif\u001b[39;00m \u001b[38;5;28misinstance\u001b[39m(value, DataFrame):\n\u001b[0;32m-> 3990\u001b[0m         \u001b[43mcheck_key_length\u001b[49m\u001b[43m(\u001b[49m\u001b[38;5;28;43mself\u001b[39;49m\u001b[38;5;241;43m.\u001b[39;49m\u001b[43mcolumns\u001b[49m\u001b[43m,\u001b[49m\u001b[43m \u001b[49m\u001b[43mkey\u001b[49m\u001b[43m,\u001b[49m\u001b[43m \u001b[49m\u001b[43mvalue\u001b[49m\u001b[43m)\u001b[49m\n\u001b[1;32m   3991\u001b[0m         \u001b[38;5;28;01mfor\u001b[39;00m k1, k2 \u001b[38;5;129;01min\u001b[39;00m \u001b[38;5;28mzip\u001b[39m(key, value\u001b[38;5;241m.\u001b[39mcolumns):\n\u001b[1;32m   3992\u001b[0m             \u001b[38;5;28mself\u001b[39m[k1] \u001b[38;5;241m=\u001b[39m value[k2]\n",
      "File \u001b[0;32m/usr/local/lib/python3.10/dist-packages/pandas/core/indexers/utils.py:392\u001b[0m, in \u001b[0;36mcheck_key_length\u001b[0;34m(columns, key, value)\u001b[0m\n\u001b[1;32m    390\u001b[0m \u001b[38;5;28;01mif\u001b[39;00m columns\u001b[38;5;241m.\u001b[39mis_unique:\n\u001b[1;32m    391\u001b[0m     \u001b[38;5;28;01mif\u001b[39;00m \u001b[38;5;28mlen\u001b[39m(value\u001b[38;5;241m.\u001b[39mcolumns) \u001b[38;5;241m!=\u001b[39m \u001b[38;5;28mlen\u001b[39m(key):\n\u001b[0;32m--> 392\u001b[0m         \u001b[38;5;28;01mraise\u001b[39;00m \u001b[38;5;167;01mValueError\u001b[39;00m(\u001b[38;5;124m\"\u001b[39m\u001b[38;5;124mColumns must be same length as key\u001b[39m\u001b[38;5;124m\"\u001b[39m)\n\u001b[1;32m    393\u001b[0m \u001b[38;5;28;01melse\u001b[39;00m:\n\u001b[1;32m    394\u001b[0m     \u001b[38;5;66;03m# Missing keys in columns are represented as -1\u001b[39;00m\n\u001b[1;32m    395\u001b[0m     \u001b[38;5;28;01mif\u001b[39;00m \u001b[38;5;28mlen\u001b[39m(columns\u001b[38;5;241m.\u001b[39mget_indexer_non_unique(key)[\u001b[38;5;241m0\u001b[39m]) \u001b[38;5;241m!=\u001b[39m \u001b[38;5;28mlen\u001b[39m(value\u001b[38;5;241m.\u001b[39mcolumns):\n",
      "\u001b[0;31mValueError\u001b[0m: Columns must be same length as key"
     ]
    }
   ],
   "source": [
    "# Clean the 'WktGeom' column by removing 'POINT(' and ')'\n",
    "traffic_data['WktGeom'] = traffic_data['WktGeom'].str.replace('POINT\\(', '').str.replace('\\)', '')\n",
    "\n",
    "# Split the WktGeom column into Easting and Northing\n",
    "traffic_data[['Easting', 'Northing']] = traffic_data['WktGeom'].str.split(expand=True)\n",
    "\n",
    "# Convert the columns to float type\n",
    "traffic_data['Easting'] = traffic_data['Easting'].astype(float)\n",
    "traffic_data['Northing'] = traffic_data['Northing'].astype(float)\n",
    "\n",
    "print(traffic_data[['Easting', 'Northing']].head())  # Check the output\n"
   ]
  },
  {
   "cell_type": "code",
   "execution_count": null,
   "id": "672a37ea-ea3c-49fd-9642-7f1b0e97b0a7",
   "metadata": {},
   "outputs": [],
   "source": [
    "from pyproj import Transformer\n",
    "\n",
    "# Define the transformer for EPSG:2263 (NAD83 / New York Long Island) to WGS84\n",
    "transformer = Transformer.from_crs(\"epsg:2263\", \"epsg:4326\")\n",
    "\n",
    "# Convert the easting and northing columns to latitude and longitude\n",
    "traffic_data['Latitude'], traffic_data['Longitude'] = transformer.transform(traffic_data['Easting'].values, traffic_data['Northing'].values)\n",
    "\n",
    "# Verify the conversion result\n",
    "print(traffic_data[['Latitude', 'Longitude']].head())  # Check the conversion output\n"
   ]
  },
  {
   "cell_type": "raw",
   "id": "f58a9240-fd26-496a-83ba-0d56a4c17a67",
   "metadata": {},
   "source": [
    "Group traffic data by coordinates and street"
   ]
  },
  {
   "cell_type": "code",
   "execution_count": 15,
   "id": "7583cf24-aa2e-480d-bb3e-230eede8aeac",
   "metadata": {},
   "outputs": [
    {
     "name": "stdout",
     "output_type": "stream",
     "text": [
      "        latitude      longitude         street       Vol\n",
      "0  120795.604849  914887.641452  BILLOP AVENUE   42602.0\n",
      "1  120797.719822  914896.547396  BILLOP AVENUE  153045.0\n",
      "2  120797.763214  914896.730117  BILLOP AVENUE  185596.0\n",
      "3  120799.327508  914903.317206  BILLOP AVENUE  153045.0\n",
      "4  120804.229625  914923.959546  BILLOP AVENUE  112457.0\n"
     ]
    }
   ],
   "source": [
    "# Group by latitude, longitude, and street\n",
    "traffic_grouped = traffic_data.groupby(['latitude', 'longitude', 'street']).agg({'Vol': 'sum'}).reset_index()\n",
    "\n",
    "print(traffic_grouped.head())"
   ]
  },
  {
   "cell_type": "code",
   "execution_count": 48,
   "id": "f2f5f6c0-2af7-41c1-8d28-3ff93b812223",
   "metadata": {},
   "outputs": [],
   "source": [
    "charging_grouped = charging_data.groupby(['Latitude', 'Longitude']).size().reset_index(name='num_stations')"
   ]
  },
  {
   "cell_type": "code",
   "execution_count": 49,
   "id": "64aeeb01-71d5-4b5f-8f96-3bb97ccb3914",
   "metadata": {},
   "outputs": [
    {
     "name": "stdout",
     "output_type": "stream",
     "text": [
      "    Latitude  Longitude  num_stations\n",
      "0  41.015276 -73.634045             1\n",
      "1  41.016928 -73.647607             1\n",
      "2  41.017757 -73.623525             1\n",
      "3  41.040555 -73.673445             1\n",
      "4  41.040838 -73.540539             1\n"
     ]
    }
   ],
   "source": [
    "print(charging_grouped.head())"
   ]
  },
  {
   "cell_type": "raw",
   "id": "c7b7fb69-c3fb-474e-b366-ac3b3be6158e",
   "metadata": {},
   "source": [
    "Merge traffic and charging data"
   ]
  },
  {
   "cell_type": "code",
   "execution_count": null,
   "id": "ed10539c-5ced-4ed6-bc31-845e50f4734f",
   "metadata": {},
   "outputs": [],
   "source": [
    "data_merged = pd.merge(traffic_grouped, charging_grouped, left_on=['pickup_latitude', 'pickup_longitude'],\n",
    "                       right_on=['Latitude', 'Longitude'], how='left')\n",
    "data_merged['num_stations'] = data_merged['num_stations'].fillna(0)"
   ]
  },
  {
   "cell_type": "raw",
   "id": "3e7d117b-df42-4878-9b4b-5d8265b353f9",
   "metadata": {},
   "source": [
    "Feature Selection and Data Split"
   ]
  },
  {
   "cell_type": "code",
   "execution_count": null,
   "id": "612598d9-f780-47d9-b824-3a7b34f5911d",
   "metadata": {},
   "outputs": [],
   "source": [
    "X = data_merged[['Vol', 'num_stations']]  # Features: Traffic volume and number of stations\n",
    "y = data_merged['num_stations']           # Target: Number of charging stations"
   ]
  },
  {
   "cell_type": "code",
   "execution_count": null,
   "id": "43a873aa-9edd-43a4-a9f6-cc4eb57dc256",
   "metadata": {},
   "outputs": [],
   "source": [
    "X_train, X_test, y_train, y_test = train_test_split(X, y, test_size=0.2, random_state=42)"
   ]
  },
  {
   "cell_type": "raw",
   "id": "6942bb40-a77e-4cd8-b844-c9727a6efb79",
   "metadata": {},
   "source": [
    "Linear Regression Model (Intel Optimized)"
   ]
  },
  {
   "cell_type": "code",
   "execution_count": null,
   "id": "e8102158-96b3-4f47-8a4b-984f7bd4f360",
   "metadata": {},
   "outputs": [],
   "source": [
    "from sklearnex.linear_model import LinearRegression\n",
    "lr_algo = LinearRegression().fit(data, labels)\n",
    "coef, intercept = lr_algo.coef_, lr_algo.intercept_"
   ]
  },
  {
   "cell_type": "raw",
   "id": "56c7201b-9609-4668-8460-90b72084aac8",
   "metadata": {},
   "source": [
    "K-means clustering (optimized and shortened)"
   ]
  },
  {
   "cell_type": "code",
   "execution_count": null,
   "id": "e22ada4d-e9f4-4294-a941-b823596f9770",
   "metadata": {},
   "outputs": [],
   "source": [
    "from sklearnex.cluster import KMeans\n",
    "kmeans_algo = KMeans(n_clusters=2, max_iter=10).fit(data)\n",
    "centroids = kmeans_algo.cluster_centers_"
   ]
  },
  {
   "cell_type": "raw",
   "id": "2a42efb9-cb8a-4c61-9640-ae2d7492aa33",
   "metadata": {},
   "source": [
    "Visualization of Clusters"
   ]
  },
  {
   "cell_type": "code",
   "execution_count": null,
   "id": "7b903788-15ef-4f27-9241-cfe8217eedf6",
   "metadata": {},
   "outputs": [],
   "source": [
    "plt.scatter(data_merged['pickup_longitude'], data_merged['pickup_latitude'], c=data_merged['cluster'], cmap='viridis')\n",
    "plt.title('Intel-Optimized K-means Clustering of Traffic Data')\n",
    "plt.xlabel('Longitude')\n",
    "plt.ylabel('Latitude')\n",
    "plt.show()"
   ]
  },
  {
   "cell_type": "raw",
   "id": "babd7832-ad42-4034-9e01-15ff4b7a8811",
   "metadata": {},
   "source": [
    "Identify High-Demand Areas (No changes required)"
   ]
  },
  {
   "cell_type": "code",
   "execution_count": null,
   "id": "f9dacb5f-4b87-44dd-8fc1-05629af5afeb",
   "metadata": {},
   "outputs": [],
   "source": [
    "high_demand_areas = data_merged[(data_merged['Vol'] > 100000) & (data_merged['num_stations'] == 0)]\n",
    "print(high_demand_areas[['pickup_latitude', 'pickup_longitude', 'Vol']])"
   ]
  }
 ],
 "metadata": {
  "kernelspec": {
   "display_name": "Python 3 (ipykernel)",
   "language": "python",
   "name": "python3"
  },
  "language_info": {
   "codemirror_mode": {
    "name": "ipython",
    "version": 3
   },
   "file_extension": ".py",
   "mimetype": "text/x-python",
   "name": "python",
   "nbconvert_exporter": "python",
   "pygments_lexer": "ipython3",
   "version": "3.10.12"
  }
 },
 "nbformat": 4,
 "nbformat_minor": 5
}
